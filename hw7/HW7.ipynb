{
  "nbformat": 4,
  "nbformat_minor": 0,
  "metadata": {
    "colab": {
      "provenance": []
    },
    "kernelspec": {
      "name": "python3",
      "display_name": "Python 3"
    },
    "language_info": {
      "name": "python"
    }
  },
  "cells": [
    {
      "cell_type": "markdown",
      "source": [
        "Рассматриваемый организм - Saccharomyces cerevisiae (пекарские дрожжи)"
      ],
      "metadata": {
        "id": "_S0JoFVHo-37"
      }
    },
    {
      "cell_type": "markdown",
      "source": [
        "1) Найдем кол-во участков Z-ДНК в хромосоме chrXII"
      ],
      "metadata": {
        "id": "eOqKNzkasL7K"
      }
    },
    {
      "cell_type": "code",
      "source": [
        "!gcc zhunt3-alan.c -lm -o zhunt3\n",
        "!chmod a+x zhunt3\n",
        "!./zhunt3 12 8 12 chrXII.fa"
      ],
      "metadata": {
        "id": "wks5db9tdHUl"
      },
      "execution_count": null,
      "outputs": []
    },
    {
      "cell_type": "code",
      "source": [
        "import pandas as pd\n",
        "table = pd.read_csv(\"chrXII.fa.Z-SCORE\", skiprows=1, names=[\"Start\",\"End\",\"1\",\"2\",\"3\",\"Score\",\"Seq\",\"4\"], delim_whitespace=True)\n",
        "table = table.loc[table['Score'] >= 300]\n",
        "table"
      ],
      "metadata": {
        "colab": {
          "base_uri": "https://localhost:8080/",
          "height": 423
        },
        "id": "oxdH_b_6fzmS",
        "outputId": "34405d34-e367-45a0-aac5-47ef0aedb6ef"
      },
      "execution_count": 46,
      "outputs": [
        {
          "output_type": "execute_result",
          "data": {
            "text/plain": [
              "           Start      End   1       2       3      Score  \\\n",
              "1              2       26  24  21.989  58.056   413.7336   \n",
              "49            50       74  24  22.151  57.615   344.1131   \n",
              "50            51       75  24  21.703  59.310   577.1522   \n",
              "51            52       76  24  21.677  59.749   595.3441   \n",
              "52            53       77  24  21.225  62.151  1029.4250   \n",
              "...          ...      ...  ..     ...     ...        ...   \n",
              "1078173  1078174  1078194  20  22.096  44.869   366.3665   \n",
              "1078174  1078175  1078193  18  21.980  44.729   418.0957   \n",
              "1078175  1078176  1078194  18  21.917  47.249   449.7606   \n",
              "1078176  1078177  1078193  16  21.802  33.440   513.8668   \n",
              "1078177  1078178  1078194  16  21.742  50.914   551.1883   \n",
              "\n",
              "                              Seq                         4  \n",
              "1        cacacacacacaccacccacacac  ASASASASASASSASASASASASA  \n",
              "49       cacaccacacccacacacccacac  ASASSASASASASASASASASASA  \n",
              "50       acaccacacccacacacccacaca  SAASASASASASASASASASASAS  \n",
              "51       caccacacccacacacccacacac  ASSASASASASASASASASASASA  \n",
              "52       accacacccacacacccacacaca  ASASASASASASASASASASASAS  \n",
              "...                           ...                       ...  \n",
              "1078173      tatttccacacacacacacc      ASASASASASASASASASAS  \n",
              "1078174        atttccacacacacacac        SASASASASASASASASA  \n",
              "1078175        tttccacacacacacacc        ASASASASASASASASAS  \n",
              "1078176          ttccacacacacacac          SASASASASASASASA  \n",
              "1078177          tccacacacacacacc          ASASASASASASASAS  \n",
              "\n",
              "[1431 rows x 8 columns]"
            ],
            "text/html": [
              "\n",
              "  <div id=\"df-6ced01d1-336a-4174-a93a-5f1e1a82cba6\">\n",
              "    <div class=\"colab-df-container\">\n",
              "      <div>\n",
              "<style scoped>\n",
              "    .dataframe tbody tr th:only-of-type {\n",
              "        vertical-align: middle;\n",
              "    }\n",
              "\n",
              "    .dataframe tbody tr th {\n",
              "        vertical-align: top;\n",
              "    }\n",
              "\n",
              "    .dataframe thead th {\n",
              "        text-align: right;\n",
              "    }\n",
              "</style>\n",
              "<table border=\"1\" class=\"dataframe\">\n",
              "  <thead>\n",
              "    <tr style=\"text-align: right;\">\n",
              "      <th></th>\n",
              "      <th>Start</th>\n",
              "      <th>End</th>\n",
              "      <th>1</th>\n",
              "      <th>2</th>\n",
              "      <th>3</th>\n",
              "      <th>Score</th>\n",
              "      <th>Seq</th>\n",
              "      <th>4</th>\n",
              "    </tr>\n",
              "  </thead>\n",
              "  <tbody>\n",
              "    <tr>\n",
              "      <th>1</th>\n",
              "      <td>2</td>\n",
              "      <td>26</td>\n",
              "      <td>24</td>\n",
              "      <td>21.989</td>\n",
              "      <td>58.056</td>\n",
              "      <td>413.7336</td>\n",
              "      <td>cacacacacacaccacccacacac</td>\n",
              "      <td>ASASASASASASSASASASASASA</td>\n",
              "    </tr>\n",
              "    <tr>\n",
              "      <th>49</th>\n",
              "      <td>50</td>\n",
              "      <td>74</td>\n",
              "      <td>24</td>\n",
              "      <td>22.151</td>\n",
              "      <td>57.615</td>\n",
              "      <td>344.1131</td>\n",
              "      <td>cacaccacacccacacacccacac</td>\n",
              "      <td>ASASSASASASASASASASASASA</td>\n",
              "    </tr>\n",
              "    <tr>\n",
              "      <th>50</th>\n",
              "      <td>51</td>\n",
              "      <td>75</td>\n",
              "      <td>24</td>\n",
              "      <td>21.703</td>\n",
              "      <td>59.310</td>\n",
              "      <td>577.1522</td>\n",
              "      <td>acaccacacccacacacccacaca</td>\n",
              "      <td>SAASASASASASASASASASASAS</td>\n",
              "    </tr>\n",
              "    <tr>\n",
              "      <th>51</th>\n",
              "      <td>52</td>\n",
              "      <td>76</td>\n",
              "      <td>24</td>\n",
              "      <td>21.677</td>\n",
              "      <td>59.749</td>\n",
              "      <td>595.3441</td>\n",
              "      <td>caccacacccacacacccacacac</td>\n",
              "      <td>ASSASASASASASASASASASASA</td>\n",
              "    </tr>\n",
              "    <tr>\n",
              "      <th>52</th>\n",
              "      <td>53</td>\n",
              "      <td>77</td>\n",
              "      <td>24</td>\n",
              "      <td>21.225</td>\n",
              "      <td>62.151</td>\n",
              "      <td>1029.4250</td>\n",
              "      <td>accacacccacacacccacacaca</td>\n",
              "      <td>ASASASASASASASASASASASAS</td>\n",
              "    </tr>\n",
              "    <tr>\n",
              "      <th>...</th>\n",
              "      <td>...</td>\n",
              "      <td>...</td>\n",
              "      <td>...</td>\n",
              "      <td>...</td>\n",
              "      <td>...</td>\n",
              "      <td>...</td>\n",
              "      <td>...</td>\n",
              "      <td>...</td>\n",
              "    </tr>\n",
              "    <tr>\n",
              "      <th>1078173</th>\n",
              "      <td>1078174</td>\n",
              "      <td>1078194</td>\n",
              "      <td>20</td>\n",
              "      <td>22.096</td>\n",
              "      <td>44.869</td>\n",
              "      <td>366.3665</td>\n",
              "      <td>tatttccacacacacacacc</td>\n",
              "      <td>ASASASASASASASASASAS</td>\n",
              "    </tr>\n",
              "    <tr>\n",
              "      <th>1078174</th>\n",
              "      <td>1078175</td>\n",
              "      <td>1078193</td>\n",
              "      <td>18</td>\n",
              "      <td>21.980</td>\n",
              "      <td>44.729</td>\n",
              "      <td>418.0957</td>\n",
              "      <td>atttccacacacacacac</td>\n",
              "      <td>SASASASASASASASASA</td>\n",
              "    </tr>\n",
              "    <tr>\n",
              "      <th>1078175</th>\n",
              "      <td>1078176</td>\n",
              "      <td>1078194</td>\n",
              "      <td>18</td>\n",
              "      <td>21.917</td>\n",
              "      <td>47.249</td>\n",
              "      <td>449.7606</td>\n",
              "      <td>tttccacacacacacacc</td>\n",
              "      <td>ASASASASASASASASAS</td>\n",
              "    </tr>\n",
              "    <tr>\n",
              "      <th>1078176</th>\n",
              "      <td>1078177</td>\n",
              "      <td>1078193</td>\n",
              "      <td>16</td>\n",
              "      <td>21.802</td>\n",
              "      <td>33.440</td>\n",
              "      <td>513.8668</td>\n",
              "      <td>ttccacacacacacac</td>\n",
              "      <td>SASASASASASASASA</td>\n",
              "    </tr>\n",
              "    <tr>\n",
              "      <th>1078177</th>\n",
              "      <td>1078178</td>\n",
              "      <td>1078194</td>\n",
              "      <td>16</td>\n",
              "      <td>21.742</td>\n",
              "      <td>50.914</td>\n",
              "      <td>551.1883</td>\n",
              "      <td>tccacacacacacacc</td>\n",
              "      <td>ASASASASASASASAS</td>\n",
              "    </tr>\n",
              "  </tbody>\n",
              "</table>\n",
              "<p>1431 rows × 8 columns</p>\n",
              "</div>\n",
              "      <button class=\"colab-df-convert\" onclick=\"convertToInteractive('df-6ced01d1-336a-4174-a93a-5f1e1a82cba6')\"\n",
              "              title=\"Convert this dataframe to an interactive table.\"\n",
              "              style=\"display:none;\">\n",
              "        \n",
              "  <svg xmlns=\"http://www.w3.org/2000/svg\" height=\"24px\"viewBox=\"0 0 24 24\"\n",
              "       width=\"24px\">\n",
              "    <path d=\"M0 0h24v24H0V0z\" fill=\"none\"/>\n",
              "    <path d=\"M18.56 5.44l.94 2.06.94-2.06 2.06-.94-2.06-.94-.94-2.06-.94 2.06-2.06.94zm-11 1L8.5 8.5l.94-2.06 2.06-.94-2.06-.94L8.5 2.5l-.94 2.06-2.06.94zm10 10l.94 2.06.94-2.06 2.06-.94-2.06-.94-.94-2.06-.94 2.06-2.06.94z\"/><path d=\"M17.41 7.96l-1.37-1.37c-.4-.4-.92-.59-1.43-.59-.52 0-1.04.2-1.43.59L10.3 9.45l-7.72 7.72c-.78.78-.78 2.05 0 2.83L4 21.41c.39.39.9.59 1.41.59.51 0 1.02-.2 1.41-.59l7.78-7.78 2.81-2.81c.8-.78.8-2.07 0-2.86zM5.41 20L4 18.59l7.72-7.72 1.47 1.35L5.41 20z\"/>\n",
              "  </svg>\n",
              "      </button>\n",
              "      \n",
              "  <style>\n",
              "    .colab-df-container {\n",
              "      display:flex;\n",
              "      flex-wrap:wrap;\n",
              "      gap: 12px;\n",
              "    }\n",
              "\n",
              "    .colab-df-convert {\n",
              "      background-color: #E8F0FE;\n",
              "      border: none;\n",
              "      border-radius: 50%;\n",
              "      cursor: pointer;\n",
              "      display: none;\n",
              "      fill: #1967D2;\n",
              "      height: 32px;\n",
              "      padding: 0 0 0 0;\n",
              "      width: 32px;\n",
              "    }\n",
              "\n",
              "    .colab-df-convert:hover {\n",
              "      background-color: #E2EBFA;\n",
              "      box-shadow: 0px 1px 2px rgba(60, 64, 67, 0.3), 0px 1px 3px 1px rgba(60, 64, 67, 0.15);\n",
              "      fill: #174EA6;\n",
              "    }\n",
              "\n",
              "    [theme=dark] .colab-df-convert {\n",
              "      background-color: #3B4455;\n",
              "      fill: #D2E3FC;\n",
              "    }\n",
              "\n",
              "    [theme=dark] .colab-df-convert:hover {\n",
              "      background-color: #434B5C;\n",
              "      box-shadow: 0px 1px 3px 1px rgba(0, 0, 0, 0.15);\n",
              "      filter: drop-shadow(0px 1px 2px rgba(0, 0, 0, 0.3));\n",
              "      fill: #FFFFFF;\n",
              "    }\n",
              "  </style>\n",
              "\n",
              "      <script>\n",
              "        const buttonEl =\n",
              "          document.querySelector('#df-6ced01d1-336a-4174-a93a-5f1e1a82cba6 button.colab-df-convert');\n",
              "        buttonEl.style.display =\n",
              "          google.colab.kernel.accessAllowed ? 'block' : 'none';\n",
              "\n",
              "        async function convertToInteractive(key) {\n",
              "          const element = document.querySelector('#df-6ced01d1-336a-4174-a93a-5f1e1a82cba6');\n",
              "          const dataTable =\n",
              "            await google.colab.kernel.invokeFunction('convertToInteractive',\n",
              "                                                     [key], {});\n",
              "          if (!dataTable) return;\n",
              "\n",
              "          const docLinkHtml = 'Like what you see? Visit the ' +\n",
              "            '<a target=\"_blank\" href=https://colab.research.google.com/notebooks/data_table.ipynb>data table notebook</a>'\n",
              "            + ' to learn more about interactive tables.';\n",
              "          element.innerHTML = '';\n",
              "          dataTable['output_type'] = 'display_data';\n",
              "          await google.colab.output.renderOutput(dataTable, element);\n",
              "          const docLink = document.createElement('div');\n",
              "          docLink.innerHTML = docLinkHtml;\n",
              "          element.appendChild(docLink);\n",
              "        }\n",
              "      </script>\n",
              "    </div>\n",
              "  </div>\n",
              "  "
            ]
          },
          "metadata": {},
          "execution_count": 46
        }
      ]
    },
    {
      "cell_type": "markdown",
      "source": [
        "Это участки Z-ДНК, в рассматриваемой хромосоме их 1431."
      ],
      "metadata": {
        "id": "sSfzKAyurHmk"
      }
    },
    {
      "cell_type": "markdown",
      "source": [
        "2) Посчитаем кол-во квадруплексов"
      ],
      "metadata": {
        "id": "Tky81o7XsVn0"
      }
    },
    {
      "cell_type": "code",
      "source": [
        "!pip install biopython\n",
        "import re\n",
        "from Bio import SeqIO"
      ],
      "metadata": {
        "id": "h_tO0X_bgC5x"
      },
      "execution_count": null,
      "outputs": []
    },
    {
      "cell_type": "code",
      "source": [
        "input_file = \"chrXII.fa\"\n",
        "fasta_sequence = SeqIO.parse(input_file,'fasta')\n",
        "for record in SeqIO.parse(input_file, \"fasta\"):\n",
        "  print(\"%s %i\" % (record.id, len(record)))\n",
        "  name, sequence = record.id, str(record.seq)\n",
        "pattern=\"(?:G{3,}[ATGC]{1,7}){3,}G{3,}\"\n",
        "PQS=[[m.start(),m.end(),m.group(0)] for m in re.finditer(pattern,sequence,re.IGNORECASE)]\n",
        "len(PQS)"
      ],
      "metadata": {
        "colab": {
          "base_uri": "https://localhost:8080/"
        },
        "id": "Np77TaEqsoSw",
        "outputId": "cdf7feec-ade0-46c2-f449-6bbcf32aaa33"
      },
      "execution_count": 48,
      "outputs": [
        {
          "output_type": "stream",
          "name": "stdout",
          "text": [
            "chrXII 1078177\n"
          ]
        },
        {
          "output_type": "execute_result",
          "data": {
            "text/plain": [
              "3"
            ]
          },
          "metadata": {},
          "execution_count": 48
        }
      ]
    },
    {
      "cell_type": "markdown",
      "source": [
        "В хромосоме есть 3 квадруплекса"
      ],
      "metadata": {
        "id": "kA1WZzUrviOx"
      }
    },
    {
      "cell_type": "markdown",
      "source": [
        "3) Скачаем разметку генома - sacCer3.ensGene.gtf"
      ],
      "metadata": {
        "id": "ZE1w1uN8K-Hr"
      }
    },
    {
      "cell_type": "code",
      "source": [
        "%%bash\n",
        "wget https://github.com/arq5x/bedtools2/releases/download/v2.29.1/bedtools-2.29.1.tar.gz\n",
        "tar -zxvf bedtools-2.29.1.tar.gz"
      ],
      "metadata": {
        "id": "-cNQq9X1DHaS"
      },
      "execution_count": null,
      "outputs": []
    },
    {
      "cell_type": "code",
      "source": [
        "%%bash\n",
        "cd bedtools2\n",
        "make"
      ],
      "metadata": {
        "id": "442GyCVhLJ80"
      },
      "execution_count": null,
      "outputs": []
    },
    {
      "cell_type": "code",
      "source": [
        "with open('./quadrs.bed', 'w') as the_file:\n",
        "    for i in range(len(PQS)):\n",
        "      the_file.write(\"chrXII\\t\"+str(PQS[i][0])+\"\\t\"+str(PQS[i][1])+\"\\n\")  "
      ],
      "metadata": {
        "id": "mM375JJrNQXS"
      },
      "execution_count": 49,
      "outputs": []
    },
    {
      "cell_type": "code",
      "source": [
        "!./bedtools2/bin/bedtools intersect -a quadrs.bed -b sacCer3.ensGene.gtf | wc -l"
      ],
      "metadata": {
        "colab": {
          "base_uri": "https://localhost:8080/"
        },
        "id": "aQnZQCA0NvDn",
        "outputId": "e5407452-f7d2-42a7-ac11-0ea55bf198f3"
      },
      "execution_count": 50,
      "outputs": [
        {
          "output_type": "stream",
          "name": "stdout",
          "text": [
            "0\n"
          ]
        }
      ]
    },
    {
      "cell_type": "code",
      "source": [
        "with open('./zdna.bed', 'w') as zdna_file:\n",
        "  for ind, row in table.iterrows():\n",
        "    zdna_file.write(\"chrXII\\t\" + str(row['Start']) + \"\\t\" + str(row['End']) + \"\\n\")"
      ],
      "metadata": {
        "id": "QeaXNqBkPKjQ"
      },
      "execution_count": 51,
      "outputs": []
    },
    {
      "cell_type": "code",
      "source": [
        "!./bedtools2/bin/bedtools intersect -a zdna.bed -b sacCer3.ensGene.gtf -wao | tail"
      ],
      "metadata": {
        "colab": {
          "base_uri": "https://localhost:8080/"
        },
        "id": "3wB_YXF3PcJw",
        "outputId": "8cc6f7d9-058e-4adb-900a-2dfc934407da"
      },
      "execution_count": 52,
      "outputs": [
        {
          "output_type": "stream",
          "name": "stdout",
          "text": [
            "chrXII\t1073317\t1073333\tchrXII\tensGene.v101\tCDS\t1072508\t1077895\t.\t+\t0\tgene_id \"YLR467W\"; transcript_id \"YLR467W_mRNA\"; exon_number \"1\"; exon_id \"YLR467W_mRNA.1\"; gene_name \"YLR467W\";\t16\n",
            "chrXII\t1073319\t1073335\tchrXII\tensGene.v101\ttranscript\t1072508\t1077898\t.\t+\t.\tgene_id \"YLR467W\"; transcript_id \"YLR467W_mRNA\";  gene_name \"YLR467W\";\t16\n",
            "chrXII\t1073319\t1073335\tchrXII\tensGene.v101\texon\t1072508\t1077898\t.\t+\t.\tgene_id \"YLR467W\"; transcript_id \"YLR467W_mRNA\"; exon_number \"1\"; exon_id \"YLR467W_mRNA.1\"; gene_name \"YLR467W\";\t16\n",
            "chrXII\t1073319\t1073335\tchrXII\tensGene.v101\tCDS\t1072508\t1077895\t.\t+\t0\tgene_id \"YLR467W\"; transcript_id \"YLR467W_mRNA\"; exon_number \"1\"; exon_id \"YLR467W_mRNA.1\"; gene_name \"YLR467W\";\t16\n",
            "chrXII\t1078173\t1078193\t.\t.\t.\t-1\t-1\t.\t.\t.\t.\t0\n",
            "chrXII\t1078174\t1078194\t.\t.\t.\t-1\t-1\t.\t.\t.\t.\t0\n",
            "chrXII\t1078175\t1078193\t.\t.\t.\t-1\t-1\t.\t.\t.\t.\t0\n",
            "chrXII\t1078176\t1078194\t.\t.\t.\t-1\t-1\t.\t.\t.\t.\t0\n",
            "chrXII\t1078177\t1078193\t.\t.\t.\t-1\t-1\t.\t.\t.\t.\t0\n",
            "chrXII\t1078178\t1078194\t.\t.\t.\t-1\t-1\t.\t.\t.\t.\t0\n"
          ]
        }
      ]
    },
    {
      "cell_type": "markdown",
      "source": [
        "Т.о. все квадруплексы лежат в межгенном пространстве, а Z-ДНК попадают внутрь генов, на границу и в межгенное пространство"
      ],
      "metadata": {
        "id": "9H37P6oqWipm"
      }
    },
    {
      "cell_type": "markdown",
      "source": [
        "4-5) Выделим все промоторы и посмотрим на пересечения"
      ],
      "metadata": {
        "id": "EYoegMiaAPfc"
      }
    },
    {
      "cell_type": "code",
      "source": [
        "!grep -w \"chrXII\" sacCer3.ensGene.gtf | grep -w \"start_codon\" > starts.gtf\n",
        "!awk '{if ($7 == \"+\") print $1, ($4 - 1000), $4, $18; else print $1, $5, ($5 + 1000), $18}' starts.gtf > promoters.txt\n",
        "with open('promoters.txt', 'r') as pin:\n",
        "  with open('promoters.gtf', 'w') as pout:\n",
        "    for line in pin:\n",
        "      chr, start, end, name = line.split()\n",
        "      pout.write(chr + \"\\t\" + str(max(0, int(start))) + \"\\t\" + str(end) + \"\\t\" + name[1:-2] + \"\\n\")"
      ],
      "metadata": {
        "id": "x2ouyEwUX8Pb"
      },
      "execution_count": 63,
      "outputs": []
    },
    {
      "cell_type": "code",
      "source": [
        "def distinct_and_write(fin, fout):\n",
        "  genes = set()\n",
        "  with open(fin, 'r') as zin:\n",
        "    for name in zin:\n",
        "      genes.add(name.strip())\n",
        "  genes.remove('.')\n",
        "  with open(fout, 'w') as zout:\n",
        "    for gene in genes:\n",
        "      zout.write(gene + \"\\n\")"
      ],
      "metadata": {
        "id": "O_v3kIZJXtJR"
      },
      "execution_count": 80,
      "outputs": []
    },
    {
      "cell_type": "code",
      "source": [
        "!./bedtools2/bin/bedtools intersect -a zdna.bed -b promoters.gtf -wao | awk '{print $7}' > Z-intersect.txt\n",
        "distinct_and_write('Z-intersect.txt', 'Z-genes.txt')\n",
        "!head Z-genes.txt"
      ],
      "metadata": {
        "colab": {
          "base_uri": "https://localhost:8080/"
        },
        "id": "nSIaWnpNOlJF",
        "outputId": "9b3b8330-ef10-421b-db71-aca9ec039424"
      },
      "execution_count": 84,
      "outputs": [
        {
          "output_type": "stream",
          "name": "stdout",
          "text": [
            "YLR072W\n",
            "YLR183C\n",
            "YLL028W\n",
            "YLR278C\n",
            "YLR354C\n",
            "YLR320W\n",
            "YLR389C\n",
            "YLR390W-A\n",
            "YLL001W\n",
            "YLR378C\n"
          ]
        }
      ]
    },
    {
      "cell_type": "code",
      "source": [
        "!./bedtools2/bin/bedtools intersect -a quadrs.bed -b promoters.gtf -wao | awk '{print $7}' > Q-intersect.txt\n",
        "distinct_and_write('Q-intersect.txt', 'Q-genes.txt')\n",
        "!head Q-genes.txt"
      ],
      "metadata": {
        "colab": {
          "base_uri": "https://localhost:8080/"
        },
        "id": "opp507ewV3sJ",
        "outputId": "e3900784-a69e-40a9-c012-8d4d78ae16ed"
      },
      "execution_count": 87,
      "outputs": [
        {
          "output_type": "stream",
          "name": "stdout",
          "text": [
            "YLR462W\n",
            "YLR312W-A\n",
            "YLR312C\n"
          ]
        }
      ]
    },
    {
      "cell_type": "markdown",
      "source": [
        "Т.о. в промоторы генов из Z-genes.txt попадают Z-ДНК, в промоторы генов из Q-genes.txt - квадруплексы"
      ],
      "metadata": {
        "id": "04Rl8LG0abtf"
      }
    }
  ]
}